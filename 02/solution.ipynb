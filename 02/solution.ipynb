{
 "cells": [
  {
   "cell_type": "code",
   "execution_count": 5,
   "metadata": {},
   "outputs": [
    {
     "name": "stdout",
     "output_type": "stream",
     "text": [
      "2256 74229\n"
     ]
    }
   ],
   "source": [
    "import re\n",
    "\n",
    "input = []\n",
    "\n",
    "with open('./input.txt', 'r') as f:\n",
    "    input = f.readlines()\n",
    "\n",
    "red = 12\n",
    "green = 13\n",
    "blue = 14\n",
    "\n",
    "sum_val = 0\n",
    "prod_sum = 0\n",
    "\n",
    "for index, line in enumerate(input):\n",
    "    red_found = [int(x.replace(' red', ''))\n",
    "                 for x in re.findall(r'\\d+ red', line)]\n",
    "    max_red = max(red_found) if len(red_found) > 0 else 0\n",
    "    green_found = [int(x.replace(' green', ''))\n",
    "                   for x in re.findall(r'\\d+ green', line)]\n",
    "    max_green = max(green_found)\n",
    "    blue_found = [int(x.replace(' blue', ''))\n",
    "                  for x in re.findall(r'\\d+ blue', line)]\n",
    "    max_blue = max(blue_found)\n",
    "\n",
    "    if all([val <= red for val in red_found]) and all([val <= green for val in green_found]) and all([val <= blue for val in blue_found]):\n",
    "        sum_val += index+1\n",
    "\n",
    "    prod_sum += max_red*max_green*max_blue\n",
    "\n",
    "print(sum_val, prod_sum)"
   ]
  }
 ],
 "metadata": {
  "kernelspec": {
   "display_name": "Python 3",
   "language": "python",
   "name": "python3"
  },
  "language_info": {
   "codemirror_mode": {
    "name": "ipython",
    "version": 3
   },
   "file_extension": ".py",
   "mimetype": "text/x-python",
   "name": "python",
   "nbconvert_exporter": "python",
   "pygments_lexer": "ipython3",
   "version": "3.10.2"
  },
  "orig_nbformat": 4
 },
 "nbformat": 4,
 "nbformat_minor": 2
}
